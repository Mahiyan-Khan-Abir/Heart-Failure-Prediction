{
  "nbformat": 4,
  "nbformat_minor": 0,
  "metadata": {
    "colab": {
      "provenance": [],
      "mount_file_id": "1RwBUskLbpUStsJO41_IV9JPHG1hvm9z4",
      "authorship_tag": "ABX9TyOZrbzsy4f3Bwtv8htiAAHP",
      "include_colab_link": true
    },
    "kernelspec": {
      "name": "python3",
      "display_name": "Python 3"
    },
    "language_info": {
      "name": "python"
    }
  },
  "cells": [
    {
      "cell_type": "markdown",
      "metadata": {
        "id": "view-in-github",
        "colab_type": "text"
      },
      "source": [
        "<a href=\"https://colab.research.google.com/github/Mahiyan-Khan-Abir/Heart-Failure-Prediction/blob/main/Heart_Failure_Prediction_ipynb.ipynb\" target=\"_parent\"><img src=\"https://colab.research.google.com/assets/colab-badge.svg\" alt=\"Open In Colab\"/></a>"
      ]
    },
    {
      "cell_type": "code",
      "execution_count": 63,
      "metadata": {
        "colab": {
          "base_uri": "https://localhost:8080/"
        },
        "id": "gFn6_KNl6uZl",
        "outputId": "4bffa583-4247-49e6-ebf6-cfa6d532a4f9"
      },
      "outputs": [
        {
          "output_type": "stream",
          "name": "stdout",
          "text": [
            "Drive already mounted at /content/drive; to attempt to forcibly remount, call drive.mount(\"/content/drive\", force_remount=True).\n"
          ]
        }
      ],
      "source": [
        "from google.colab import drive\n",
        "drive.mount('/content/drive')"
      ]
    },
    {
      "cell_type": "code",
      "source": [
        "import pandas as pd\n",
        "df = pd.read_csv(\"/content/drive/MyDrive/Heart/heart_failure_clinical_records_dataset.csv\")\n",
        "print(df)"
      ],
      "metadata": {
        "colab": {
          "base_uri": "https://localhost:8080/"
        },
        "id": "18HUsUvy7Mzo",
        "outputId": "f91ddbc4-a4f6-4523-fbbf-e7a080b326fd"
      },
      "execution_count": 64,
      "outputs": [
        {
          "output_type": "stream",
          "name": "stdout",
          "text": [
            "      age  anaemia  creatinine_phosphokinase  diabetes  ejection_fraction  \\\n",
            "0    75.0        0                       582         0                 20   \n",
            "1    55.0        0                      7861         0                 38   \n",
            "2    65.0        0                       146         0                 20   \n",
            "3    50.0        1                       111         0                 20   \n",
            "4    65.0        1                       160         1                 20   \n",
            "..    ...      ...                       ...       ...                ...   \n",
            "294  62.0        0                        61         1                 38   \n",
            "295  55.0        0                      1820         0                 38   \n",
            "296  45.0        0                      2060         1                 60   \n",
            "297  45.0        0                      2413         0                 38   \n",
            "298  50.0        0                       196         0                 45   \n",
            "\n",
            "     high_blood_pressure  platelets  serum_creatinine  serum_sodium  sex  \\\n",
            "0                      1  265000.00               1.9           130    1   \n",
            "1                      0  263358.03               1.1           136    1   \n",
            "2                      0  162000.00               1.3           129    1   \n",
            "3                      0  210000.00               1.9           137    1   \n",
            "4                      0  327000.00               2.7           116    0   \n",
            "..                   ...        ...               ...           ...  ...   \n",
            "294                    1  155000.00               1.1           143    1   \n",
            "295                    0  270000.00               1.2           139    0   \n",
            "296                    0  742000.00               0.8           138    0   \n",
            "297                    0  140000.00               1.4           140    1   \n",
            "298                    0  395000.00               1.6           136    1   \n",
            "\n",
            "     smoking  time  DEATH_EVENT  \n",
            "0          0     4            1  \n",
            "1          0     6            1  \n",
            "2          1     7            1  \n",
            "3          0     7            1  \n",
            "4          0     8            1  \n",
            "..       ...   ...          ...  \n",
            "294        1   270            0  \n",
            "295        0   271            0  \n",
            "296        0   278            0  \n",
            "297        1   280            0  \n",
            "298        1   285            0  \n",
            "\n",
            "[299 rows x 13 columns]\n"
          ]
        }
      ]
    },
    {
      "cell_type": "markdown",
      "source": [
        "**Finding whather there is any missing value in the tuples**"
      ],
      "metadata": {
        "id": "5ZlhMbNNUqo7"
      }
    },
    {
      "cell_type": "code",
      "source": [
        "#Finding missing data\n",
        "df1 = pd.DataFrame(df)\n",
        "df1.isnull()"
      ],
      "metadata": {
        "colab": {
          "base_uri": "https://localhost:8080/",
          "height": 423
        },
        "id": "mYYnAbuz_00g",
        "outputId": "1ea51224-4dc0-4350-e4b2-73ad903212b6"
      },
      "execution_count": 65,
      "outputs": [
        {
          "output_type": "execute_result",
          "data": {
            "text/plain": [
              "       age  anaemia  creatinine_phosphokinase  diabetes  ejection_fraction  \\\n",
              "0    False    False                     False     False              False   \n",
              "1    False    False                     False     False              False   \n",
              "2    False    False                     False     False              False   \n",
              "3    False    False                     False     False              False   \n",
              "4    False    False                     False     False              False   \n",
              "..     ...      ...                       ...       ...                ...   \n",
              "294  False    False                     False     False              False   \n",
              "295  False    False                     False     False              False   \n",
              "296  False    False                     False     False              False   \n",
              "297  False    False                     False     False              False   \n",
              "298  False    False                     False     False              False   \n",
              "\n",
              "     high_blood_pressure  platelets  serum_creatinine  serum_sodium    sex  \\\n",
              "0                  False      False             False         False  False   \n",
              "1                  False      False             False         False  False   \n",
              "2                  False      False             False         False  False   \n",
              "3                  False      False             False         False  False   \n",
              "4                  False      False             False         False  False   \n",
              "..                   ...        ...               ...           ...    ...   \n",
              "294                False      False             False         False  False   \n",
              "295                False      False             False         False  False   \n",
              "296                False      False             False         False  False   \n",
              "297                False      False             False         False  False   \n",
              "298                False      False             False         False  False   \n",
              "\n",
              "     smoking   time  DEATH_EVENT  \n",
              "0      False  False        False  \n",
              "1      False  False        False  \n",
              "2      False  False        False  \n",
              "3      False  False        False  \n",
              "4      False  False        False  \n",
              "..       ...    ...          ...  \n",
              "294    False  False        False  \n",
              "295    False  False        False  \n",
              "296    False  False        False  \n",
              "297    False  False        False  \n",
              "298    False  False        False  \n",
              "\n",
              "[299 rows x 13 columns]"
            ],
            "text/html": [
              "\n",
              "  <div id=\"df-47619125-49c3-4d25-8583-986806b2ebbb\">\n",
              "    <div class=\"colab-df-container\">\n",
              "      <div>\n",
              "<style scoped>\n",
              "    .dataframe tbody tr th:only-of-type {\n",
              "        vertical-align: middle;\n",
              "    }\n",
              "\n",
              "    .dataframe tbody tr th {\n",
              "        vertical-align: top;\n",
              "    }\n",
              "\n",
              "    .dataframe thead th {\n",
              "        text-align: right;\n",
              "    }\n",
              "</style>\n",
              "<table border=\"1\" class=\"dataframe\">\n",
              "  <thead>\n",
              "    <tr style=\"text-align: right;\">\n",
              "      <th></th>\n",
              "      <th>age</th>\n",
              "      <th>anaemia</th>\n",
              "      <th>creatinine_phosphokinase</th>\n",
              "      <th>diabetes</th>\n",
              "      <th>ejection_fraction</th>\n",
              "      <th>high_blood_pressure</th>\n",
              "      <th>platelets</th>\n",
              "      <th>serum_creatinine</th>\n",
              "      <th>serum_sodium</th>\n",
              "      <th>sex</th>\n",
              "      <th>smoking</th>\n",
              "      <th>time</th>\n",
              "      <th>DEATH_EVENT</th>\n",
              "    </tr>\n",
              "  </thead>\n",
              "  <tbody>\n",
              "    <tr>\n",
              "      <th>0</th>\n",
              "      <td>False</td>\n",
              "      <td>False</td>\n",
              "      <td>False</td>\n",
              "      <td>False</td>\n",
              "      <td>False</td>\n",
              "      <td>False</td>\n",
              "      <td>False</td>\n",
              "      <td>False</td>\n",
              "      <td>False</td>\n",
              "      <td>False</td>\n",
              "      <td>False</td>\n",
              "      <td>False</td>\n",
              "      <td>False</td>\n",
              "    </tr>\n",
              "    <tr>\n",
              "      <th>1</th>\n",
              "      <td>False</td>\n",
              "      <td>False</td>\n",
              "      <td>False</td>\n",
              "      <td>False</td>\n",
              "      <td>False</td>\n",
              "      <td>False</td>\n",
              "      <td>False</td>\n",
              "      <td>False</td>\n",
              "      <td>False</td>\n",
              "      <td>False</td>\n",
              "      <td>False</td>\n",
              "      <td>False</td>\n",
              "      <td>False</td>\n",
              "    </tr>\n",
              "    <tr>\n",
              "      <th>2</th>\n",
              "      <td>False</td>\n",
              "      <td>False</td>\n",
              "      <td>False</td>\n",
              "      <td>False</td>\n",
              "      <td>False</td>\n",
              "      <td>False</td>\n",
              "      <td>False</td>\n",
              "      <td>False</td>\n",
              "      <td>False</td>\n",
              "      <td>False</td>\n",
              "      <td>False</td>\n",
              "      <td>False</td>\n",
              "      <td>False</td>\n",
              "    </tr>\n",
              "    <tr>\n",
              "      <th>3</th>\n",
              "      <td>False</td>\n",
              "      <td>False</td>\n",
              "      <td>False</td>\n",
              "      <td>False</td>\n",
              "      <td>False</td>\n",
              "      <td>False</td>\n",
              "      <td>False</td>\n",
              "      <td>False</td>\n",
              "      <td>False</td>\n",
              "      <td>False</td>\n",
              "      <td>False</td>\n",
              "      <td>False</td>\n",
              "      <td>False</td>\n",
              "    </tr>\n",
              "    <tr>\n",
              "      <th>4</th>\n",
              "      <td>False</td>\n",
              "      <td>False</td>\n",
              "      <td>False</td>\n",
              "      <td>False</td>\n",
              "      <td>False</td>\n",
              "      <td>False</td>\n",
              "      <td>False</td>\n",
              "      <td>False</td>\n",
              "      <td>False</td>\n",
              "      <td>False</td>\n",
              "      <td>False</td>\n",
              "      <td>False</td>\n",
              "      <td>False</td>\n",
              "    </tr>\n",
              "    <tr>\n",
              "      <th>...</th>\n",
              "      <td>...</td>\n",
              "      <td>...</td>\n",
              "      <td>...</td>\n",
              "      <td>...</td>\n",
              "      <td>...</td>\n",
              "      <td>...</td>\n",
              "      <td>...</td>\n",
              "      <td>...</td>\n",
              "      <td>...</td>\n",
              "      <td>...</td>\n",
              "      <td>...</td>\n",
              "      <td>...</td>\n",
              "      <td>...</td>\n",
              "    </tr>\n",
              "    <tr>\n",
              "      <th>294</th>\n",
              "      <td>False</td>\n",
              "      <td>False</td>\n",
              "      <td>False</td>\n",
              "      <td>False</td>\n",
              "      <td>False</td>\n",
              "      <td>False</td>\n",
              "      <td>False</td>\n",
              "      <td>False</td>\n",
              "      <td>False</td>\n",
              "      <td>False</td>\n",
              "      <td>False</td>\n",
              "      <td>False</td>\n",
              "      <td>False</td>\n",
              "    </tr>\n",
              "    <tr>\n",
              "      <th>295</th>\n",
              "      <td>False</td>\n",
              "      <td>False</td>\n",
              "      <td>False</td>\n",
              "      <td>False</td>\n",
              "      <td>False</td>\n",
              "      <td>False</td>\n",
              "      <td>False</td>\n",
              "      <td>False</td>\n",
              "      <td>False</td>\n",
              "      <td>False</td>\n",
              "      <td>False</td>\n",
              "      <td>False</td>\n",
              "      <td>False</td>\n",
              "    </tr>\n",
              "    <tr>\n",
              "      <th>296</th>\n",
              "      <td>False</td>\n",
              "      <td>False</td>\n",
              "      <td>False</td>\n",
              "      <td>False</td>\n",
              "      <td>False</td>\n",
              "      <td>False</td>\n",
              "      <td>False</td>\n",
              "      <td>False</td>\n",
              "      <td>False</td>\n",
              "      <td>False</td>\n",
              "      <td>False</td>\n",
              "      <td>False</td>\n",
              "      <td>False</td>\n",
              "    </tr>\n",
              "    <tr>\n",
              "      <th>297</th>\n",
              "      <td>False</td>\n",
              "      <td>False</td>\n",
              "      <td>False</td>\n",
              "      <td>False</td>\n",
              "      <td>False</td>\n",
              "      <td>False</td>\n",
              "      <td>False</td>\n",
              "      <td>False</td>\n",
              "      <td>False</td>\n",
              "      <td>False</td>\n",
              "      <td>False</td>\n",
              "      <td>False</td>\n",
              "      <td>False</td>\n",
              "    </tr>\n",
              "    <tr>\n",
              "      <th>298</th>\n",
              "      <td>False</td>\n",
              "      <td>False</td>\n",
              "      <td>False</td>\n",
              "      <td>False</td>\n",
              "      <td>False</td>\n",
              "      <td>False</td>\n",
              "      <td>False</td>\n",
              "      <td>False</td>\n",
              "      <td>False</td>\n",
              "      <td>False</td>\n",
              "      <td>False</td>\n",
              "      <td>False</td>\n",
              "      <td>False</td>\n",
              "    </tr>\n",
              "  </tbody>\n",
              "</table>\n",
              "<p>299 rows × 13 columns</p>\n",
              "</div>\n",
              "      <button class=\"colab-df-convert\" onclick=\"convertToInteractive('df-47619125-49c3-4d25-8583-986806b2ebbb')\"\n",
              "              title=\"Convert this dataframe to an interactive table.\"\n",
              "              style=\"display:none;\">\n",
              "        \n",
              "  <svg xmlns=\"http://www.w3.org/2000/svg\" height=\"24px\"viewBox=\"0 0 24 24\"\n",
              "       width=\"24px\">\n",
              "    <path d=\"M0 0h24v24H0V0z\" fill=\"none\"/>\n",
              "    <path d=\"M18.56 5.44l.94 2.06.94-2.06 2.06-.94-2.06-.94-.94-2.06-.94 2.06-2.06.94zm-11 1L8.5 8.5l.94-2.06 2.06-.94-2.06-.94L8.5 2.5l-.94 2.06-2.06.94zm10 10l.94 2.06.94-2.06 2.06-.94-2.06-.94-.94-2.06-.94 2.06-2.06.94z\"/><path d=\"M17.41 7.96l-1.37-1.37c-.4-.4-.92-.59-1.43-.59-.52 0-1.04.2-1.43.59L10.3 9.45l-7.72 7.72c-.78.78-.78 2.05 0 2.83L4 21.41c.39.39.9.59 1.41.59.51 0 1.02-.2 1.41-.59l7.78-7.78 2.81-2.81c.8-.78.8-2.07 0-2.86zM5.41 20L4 18.59l7.72-7.72 1.47 1.35L5.41 20z\"/>\n",
              "  </svg>\n",
              "      </button>\n",
              "      \n",
              "  <style>\n",
              "    .colab-df-container {\n",
              "      display:flex;\n",
              "      flex-wrap:wrap;\n",
              "      gap: 12px;\n",
              "    }\n",
              "\n",
              "    .colab-df-convert {\n",
              "      background-color: #E8F0FE;\n",
              "      border: none;\n",
              "      border-radius: 50%;\n",
              "      cursor: pointer;\n",
              "      display: none;\n",
              "      fill: #1967D2;\n",
              "      height: 32px;\n",
              "      padding: 0 0 0 0;\n",
              "      width: 32px;\n",
              "    }\n",
              "\n",
              "    .colab-df-convert:hover {\n",
              "      background-color: #E2EBFA;\n",
              "      box-shadow: 0px 1px 2px rgba(60, 64, 67, 0.3), 0px 1px 3px 1px rgba(60, 64, 67, 0.15);\n",
              "      fill: #174EA6;\n",
              "    }\n",
              "\n",
              "    [theme=dark] .colab-df-convert {\n",
              "      background-color: #3B4455;\n",
              "      fill: #D2E3FC;\n",
              "    }\n",
              "\n",
              "    [theme=dark] .colab-df-convert:hover {\n",
              "      background-color: #434B5C;\n",
              "      box-shadow: 0px 1px 3px 1px rgba(0, 0, 0, 0.15);\n",
              "      filter: drop-shadow(0px 1px 2px rgba(0, 0, 0, 0.3));\n",
              "      fill: #FFFFFF;\n",
              "    }\n",
              "  </style>\n",
              "\n",
              "      <script>\n",
              "        const buttonEl =\n",
              "          document.querySelector('#df-47619125-49c3-4d25-8583-986806b2ebbb button.colab-df-convert');\n",
              "        buttonEl.style.display =\n",
              "          google.colab.kernel.accessAllowed ? 'block' : 'none';\n",
              "\n",
              "        async function convertToInteractive(key) {\n",
              "          const element = document.querySelector('#df-47619125-49c3-4d25-8583-986806b2ebbb');\n",
              "          const dataTable =\n",
              "            await google.colab.kernel.invokeFunction('convertToInteractive',\n",
              "                                                     [key], {});\n",
              "          if (!dataTable) return;\n",
              "\n",
              "          const docLinkHtml = 'Like what you see? Visit the ' +\n",
              "            '<a target=\"_blank\" href=https://colab.research.google.com/notebooks/data_table.ipynb>data table notebook</a>'\n",
              "            + ' to learn more about interactive tables.';\n",
              "          element.innerHTML = '';\n",
              "          dataTable['output_type'] = 'display_data';\n",
              "          await google.colab.output.renderOutput(dataTable, element);\n",
              "          const docLink = document.createElement('div');\n",
              "          docLink.innerHTML = docLinkHtml;\n",
              "          element.appendChild(docLink);\n",
              "        }\n",
              "      </script>\n",
              "    </div>\n",
              "  </div>\n",
              "  "
            ]
          },
          "metadata": {},
          "execution_count": 65
        }
      ]
    },
    {
      "cell_type": "markdown",
      "source": [
        "**Finding correlation among dependent and independent variables**"
      ],
      "metadata": {
        "id": "t8tPpKIxUz-8"
      }
    },
    {
      "cell_type": "code",
      "source": [
        "#Correlation\n",
        "import matplotlib.pyplot as plt\n",
        "corr = df.corr()\n",
        "corr.style.background_gradient(cmap='coolwarm', axis=None)"
      ],
      "metadata": {
        "colab": {
          "base_uri": "https://localhost:8080/",
          "height": 477
        },
        "id": "fxq-vC778ynN",
        "outputId": "3282a9b1-dd1c-4c61-9455-5b454613c192"
      },
      "execution_count": 66,
      "outputs": [
        {
          "output_type": "execute_result",
          "data": {
            "text/plain": [
              "<pandas.io.formats.style.Styler at 0x7fc3940b5e10>"
            ],
            "text/html": [
              "<style type=\"text/css\">\n",
              "#T_ffc09_row0_col0, #T_ffc09_row1_col1, #T_ffc09_row2_col2, #T_ffc09_row3_col3, #T_ffc09_row4_col4, #T_ffc09_row5_col5, #T_ffc09_row6_col6, #T_ffc09_row7_col7, #T_ffc09_row8_col8, #T_ffc09_row9_col9, #T_ffc09_row10_col10, #T_ffc09_row11_col11, #T_ffc09_row12_col12 {\n",
              "  background-color: #b40426;\n",
              "  color: #f1f1f1;\n",
              "}\n",
              "#T_ffc09_row0_col1, #T_ffc09_row0_col5, #T_ffc09_row1_col0, #T_ffc09_row3_col6, #T_ffc09_row5_col0, #T_ffc09_row6_col3, #T_ffc09_row8_col11, #T_ffc09_row11_col8 {\n",
              "  background-color: #c1d4f4;\n",
              "  color: #000000;\n",
              "}\n",
              "#T_ffc09_row0_col2, #T_ffc09_row2_col0 {\n",
              "  background-color: #9bbcff;\n",
              "  color: #000000;\n",
              "}\n",
              "#T_ffc09_row0_col3, #T_ffc09_row3_col0 {\n",
              "  background-color: #97b8ff;\n",
              "  color: #000000;\n",
              "}\n",
              "#T_ffc09_row0_col4, #T_ffc09_row2_col8, #T_ffc09_row2_col12, #T_ffc09_row4_col0, #T_ffc09_row6_col8, #T_ffc09_row8_col2, #T_ffc09_row8_col6, #T_ffc09_row12_col2 {\n",
              "  background-color: #bbd1f8;\n",
              "  color: #000000;\n",
              "}\n",
              "#T_ffc09_row0_col6, #T_ffc09_row5_col10, #T_ffc09_row6_col0, #T_ffc09_row10_col5 {\n",
              "  background-color: #a2c1ff;\n",
              "  color: #000000;\n",
              "}\n",
              "#T_ffc09_row0_col7, #T_ffc09_row7_col0 {\n",
              "  background-color: #cfdaea;\n",
              "  color: #000000;\n",
              "}\n",
              "#T_ffc09_row0_col8, #T_ffc09_row2_col4, #T_ffc09_row3_col7, #T_ffc09_row4_col2, #T_ffc09_row6_col12, #T_ffc09_row7_col3, #T_ffc09_row8_col0, #T_ffc09_row12_col6 {\n",
              "  background-color: #a3c2fe;\n",
              "  color: #000000;\n",
              "}\n",
              "#T_ffc09_row0_col9, #T_ffc09_row1_col12, #T_ffc09_row9_col0, #T_ffc09_row12_col1 {\n",
              "  background-color: #bcd2f7;\n",
              "  color: #000000;\n",
              "}\n",
              "#T_ffc09_row0_col10, #T_ffc09_row10_col0 {\n",
              "  background-color: #b2ccfb;\n",
              "  color: #000000;\n",
              "}\n",
              "#T_ffc09_row0_col11, #T_ffc09_row11_col0 {\n",
              "  background-color: #7a9df8;\n",
              "  color: #f1f1f1;\n",
              "}\n",
              "#T_ffc09_row0_col12, #T_ffc09_row12_col0 {\n",
              "  background-color: #dfdbd9;\n",
              "  color: #000000;\n",
              "}\n",
              "#T_ffc09_row1_col2, #T_ffc09_row2_col1, #T_ffc09_row7_col8, #T_ffc09_row8_col7 {\n",
              "  background-color: #82a6fb;\n",
              "  color: #f1f1f1;\n",
              "}\n",
              "#T_ffc09_row1_col3, #T_ffc09_row2_col3, #T_ffc09_row2_col11, #T_ffc09_row3_col1, #T_ffc09_row3_col2, #T_ffc09_row3_col5, #T_ffc09_row4_col7, #T_ffc09_row5_col3, #T_ffc09_row7_col4, #T_ffc09_row10_col12, #T_ffc09_row11_col2, #T_ffc09_row12_col10 {\n",
              "  background-color: #abc8fd;\n",
              "  color: #000000;\n",
              "}\n",
              "#T_ffc09_row1_col4, #T_ffc09_row4_col1, #T_ffc09_row6_col10, #T_ffc09_row10_col6 {\n",
              "  background-color: #b5cdfa;\n",
              "  color: #000000;\n",
              "}\n",
              "#T_ffc09_row1_col5, #T_ffc09_row3_col11, #T_ffc09_row5_col1, #T_ffc09_row5_col8, #T_ffc09_row8_col5, #T_ffc09_row11_col3 {\n",
              "  background-color: #b6cefa;\n",
              "  color: #000000;\n",
              "}\n",
              "#T_ffc09_row1_col6, #T_ffc09_row6_col1, #T_ffc09_row6_col7, #T_ffc09_row7_col6 {\n",
              "  background-color: #a5c3fe;\n",
              "  color: #000000;\n",
              "}\n",
              "#T_ffc09_row1_col7, #T_ffc09_row7_col1 {\n",
              "  background-color: #bad0f8;\n",
              "  color: #000000;\n",
              "}\n",
              "#T_ffc09_row1_col8, #T_ffc09_row4_col11, #T_ffc09_row8_col1, #T_ffc09_row11_col4 {\n",
              "  background-color: #b7cff9;\n",
              "  color: #000000;\n",
              "}\n",
              "#T_ffc09_row1_col9, #T_ffc09_row9_col1 {\n",
              "  background-color: #98b9ff;\n",
              "  color: #000000;\n",
              "}\n",
              "#T_ffc09_row1_col10, #T_ffc09_row5_col9, #T_ffc09_row9_col5, #T_ffc09_row10_col1 {\n",
              "  background-color: #96b7ff;\n",
              "  color: #000000;\n",
              "}\n",
              "#T_ffc09_row1_col11, #T_ffc09_row11_col1 {\n",
              "  background-color: #8db0fe;\n",
              "  color: #000000;\n",
              "}\n",
              "#T_ffc09_row2_col5, #T_ffc09_row5_col2 {\n",
              "  background-color: #9ebeff;\n",
              "  color: #000000;\n",
              "}\n",
              "#T_ffc09_row2_col6, #T_ffc09_row4_col5, #T_ffc09_row5_col4, #T_ffc09_row6_col2 {\n",
              "  background-color: #b3cdfb;\n",
              "  color: #000000;\n",
              "}\n",
              "#T_ffc09_row2_col7, #T_ffc09_row7_col2, #T_ffc09_row9_col11, #T_ffc09_row11_col9 {\n",
              "  background-color: #aac7fd;\n",
              "  color: #000000;\n",
              "}\n",
              "#T_ffc09_row2_col9, #T_ffc09_row5_col12, #T_ffc09_row9_col2, #T_ffc09_row12_col5 {\n",
              "  background-color: #bfd3f6;\n",
              "  color: #000000;\n",
              "}\n",
              "#T_ffc09_row2_col10, #T_ffc09_row3_col12, #T_ffc09_row10_col2, #T_ffc09_row12_col3 {\n",
              "  background-color: #aec9fc;\n",
              "  color: #000000;\n",
              "}\n",
              "#T_ffc09_row3_col4, #T_ffc09_row4_col3, #T_ffc09_row5_col7, #T_ffc09_row7_col5, #T_ffc09_row9_col12, #T_ffc09_row12_col9 {\n",
              "  background-color: #adc9fd;\n",
              "  color: #000000;\n",
              "}\n",
              "#T_ffc09_row3_col8, #T_ffc09_row8_col3 {\n",
              "  background-color: #9abbff;\n",
              "  color: #000000;\n",
              "}\n",
              "#T_ffc09_row3_col9, #T_ffc09_row9_col3 {\n",
              "  background-color: #89acfd;\n",
              "  color: #000000;\n",
              "}\n",
              "#T_ffc09_row3_col10, #T_ffc09_row4_col9, #T_ffc09_row7_col11, #T_ffc09_row9_col4, #T_ffc09_row10_col3, #T_ffc09_row11_col7 {\n",
              "  background-color: #8caffe;\n",
              "  color: #000000;\n",
              "}\n",
              "#T_ffc09_row4_col6, #T_ffc09_row6_col4 {\n",
              "  background-color: #bed2f6;\n",
              "  color: #000000;\n",
              "}\n",
              "#T_ffc09_row4_col8, #T_ffc09_row8_col4 {\n",
              "  background-color: #d2dbe8;\n",
              "  color: #000000;\n",
              "}\n",
              "#T_ffc09_row4_col10, #T_ffc09_row10_col4 {\n",
              "  background-color: #9fbfff;\n",
              "  color: #000000;\n",
              "}\n",
              "#T_ffc09_row4_col12, #T_ffc09_row12_col4 {\n",
              "  background-color: #7093f3;\n",
              "  color: #f1f1f1;\n",
              "}\n",
              "#T_ffc09_row5_col6, #T_ffc09_row6_col5 {\n",
              "  background-color: #b9d0f9;\n",
              "  color: #000000;\n",
              "}\n",
              "#T_ffc09_row5_col11, #T_ffc09_row8_col12, #T_ffc09_row11_col5, #T_ffc09_row12_col8 {\n",
              "  background-color: #81a4fb;\n",
              "  color: #f1f1f1;\n",
              "}\n",
              "#T_ffc09_row6_col9, #T_ffc09_row9_col6 {\n",
              "  background-color: #92b4fe;\n",
              "  color: #000000;\n",
              "}\n",
              "#T_ffc09_row6_col11, #T_ffc09_row11_col6 {\n",
              "  background-color: #b1cbfc;\n",
              "  color: #000000;\n",
              "}\n",
              "#T_ffc09_row7_col9, #T_ffc09_row8_col10, #T_ffc09_row9_col7, #T_ffc09_row10_col8 {\n",
              "  background-color: #afcafc;\n",
              "  color: #000000;\n",
              "}\n",
              "#T_ffc09_row7_col10, #T_ffc09_row8_col9, #T_ffc09_row9_col8, #T_ffc09_row10_col7 {\n",
              "  background-color: #a7c5fe;\n",
              "  color: #000000;\n",
              "}\n",
              "#T_ffc09_row7_col12, #T_ffc09_row12_col7 {\n",
              "  background-color: #e6d7cf;\n",
              "  color: #000000;\n",
              "}\n",
              "#T_ffc09_row9_col10, #T_ffc09_row10_col9 {\n",
              "  background-color: #f5c0a7;\n",
              "  color: #000000;\n",
              "}\n",
              "#T_ffc09_row10_col11, #T_ffc09_row11_col10 {\n",
              "  background-color: #a9c6fd;\n",
              "  color: #000000;\n",
              "}\n",
              "#T_ffc09_row11_col12, #T_ffc09_row12_col11 {\n",
              "  background-color: #3b4cc0;\n",
              "  color: #f1f1f1;\n",
              "}\n",
              "</style>\n",
              "<table id=\"T_ffc09_\" class=\"dataframe\">\n",
              "  <thead>\n",
              "    <tr>\n",
              "      <th class=\"blank level0\" >&nbsp;</th>\n",
              "      <th class=\"col_heading level0 col0\" >age</th>\n",
              "      <th class=\"col_heading level0 col1\" >anaemia</th>\n",
              "      <th class=\"col_heading level0 col2\" >creatinine_phosphokinase</th>\n",
              "      <th class=\"col_heading level0 col3\" >diabetes</th>\n",
              "      <th class=\"col_heading level0 col4\" >ejection_fraction</th>\n",
              "      <th class=\"col_heading level0 col5\" >high_blood_pressure</th>\n",
              "      <th class=\"col_heading level0 col6\" >platelets</th>\n",
              "      <th class=\"col_heading level0 col7\" >serum_creatinine</th>\n",
              "      <th class=\"col_heading level0 col8\" >serum_sodium</th>\n",
              "      <th class=\"col_heading level0 col9\" >sex</th>\n",
              "      <th class=\"col_heading level0 col10\" >smoking</th>\n",
              "      <th class=\"col_heading level0 col11\" >time</th>\n",
              "      <th class=\"col_heading level0 col12\" >DEATH_EVENT</th>\n",
              "    </tr>\n",
              "  </thead>\n",
              "  <tbody>\n",
              "    <tr>\n",
              "      <th id=\"T_ffc09_level0_row0\" class=\"row_heading level0 row0\" >age</th>\n",
              "      <td id=\"T_ffc09_row0_col0\" class=\"data row0 col0\" >1.000000</td>\n",
              "      <td id=\"T_ffc09_row0_col1\" class=\"data row0 col1\" >0.088006</td>\n",
              "      <td id=\"T_ffc09_row0_col2\" class=\"data row0 col2\" >-0.081584</td>\n",
              "      <td id=\"T_ffc09_row0_col3\" class=\"data row0 col3\" >-0.101012</td>\n",
              "      <td id=\"T_ffc09_row0_col4\" class=\"data row0 col4\" >0.060098</td>\n",
              "      <td id=\"T_ffc09_row0_col5\" class=\"data row0 col5\" >0.093289</td>\n",
              "      <td id=\"T_ffc09_row0_col6\" class=\"data row0 col6\" >-0.052354</td>\n",
              "      <td id=\"T_ffc09_row0_col7\" class=\"data row0 col7\" >0.159187</td>\n",
              "      <td id=\"T_ffc09_row0_col8\" class=\"data row0 col8\" >-0.045966</td>\n",
              "      <td id=\"T_ffc09_row0_col9\" class=\"data row0 col9\" >0.065430</td>\n",
              "      <td id=\"T_ffc09_row0_col10\" class=\"data row0 col10\" >0.018668</td>\n",
              "      <td id=\"T_ffc09_row0_col11\" class=\"data row0 col11\" >-0.224068</td>\n",
              "      <td id=\"T_ffc09_row0_col12\" class=\"data row0 col12\" >0.253729</td>\n",
              "    </tr>\n",
              "    <tr>\n",
              "      <th id=\"T_ffc09_level0_row1\" class=\"row_heading level0 row1\" >anaemia</th>\n",
              "      <td id=\"T_ffc09_row1_col0\" class=\"data row1 col0\" >0.088006</td>\n",
              "      <td id=\"T_ffc09_row1_col1\" class=\"data row1 col1\" >1.000000</td>\n",
              "      <td id=\"T_ffc09_row1_col2\" class=\"data row1 col2\" >-0.190741</td>\n",
              "      <td id=\"T_ffc09_row1_col3\" class=\"data row1 col3\" >-0.012729</td>\n",
              "      <td id=\"T_ffc09_row1_col4\" class=\"data row1 col4\" >0.031557</td>\n",
              "      <td id=\"T_ffc09_row1_col5\" class=\"data row1 col5\" >0.038182</td>\n",
              "      <td id=\"T_ffc09_row1_col6\" class=\"data row1 col6\" >-0.043786</td>\n",
              "      <td id=\"T_ffc09_row1_col7\" class=\"data row1 col7\" >0.052174</td>\n",
              "      <td id=\"T_ffc09_row1_col8\" class=\"data row1 col8\" >0.041882</td>\n",
              "      <td id=\"T_ffc09_row1_col9\" class=\"data row1 col9\" >-0.094769</td>\n",
              "      <td id=\"T_ffc09_row1_col10\" class=\"data row1 col10\" >-0.107290</td>\n",
              "      <td id=\"T_ffc09_row1_col11\" class=\"data row1 col11\" >-0.141414</td>\n",
              "      <td id=\"T_ffc09_row1_col12\" class=\"data row1 col12\" >0.066270</td>\n",
              "    </tr>\n",
              "    <tr>\n",
              "      <th id=\"T_ffc09_level0_row2\" class=\"row_heading level0 row2\" >creatinine_phosphokinase</th>\n",
              "      <td id=\"T_ffc09_row2_col0\" class=\"data row2 col0\" >-0.081584</td>\n",
              "      <td id=\"T_ffc09_row2_col1\" class=\"data row2 col1\" >-0.190741</td>\n",
              "      <td id=\"T_ffc09_row2_col2\" class=\"data row2 col2\" >1.000000</td>\n",
              "      <td id=\"T_ffc09_row2_col3\" class=\"data row2 col3\" >-0.009639</td>\n",
              "      <td id=\"T_ffc09_row2_col4\" class=\"data row2 col4\" >-0.044080</td>\n",
              "      <td id=\"T_ffc09_row2_col5\" class=\"data row2 col5\" >-0.070590</td>\n",
              "      <td id=\"T_ffc09_row2_col6\" class=\"data row2 col6\" >0.024463</td>\n",
              "      <td id=\"T_ffc09_row2_col7\" class=\"data row2 col7\" >-0.016408</td>\n",
              "      <td id=\"T_ffc09_row2_col8\" class=\"data row2 col8\" >0.059550</td>\n",
              "      <td id=\"T_ffc09_row2_col9\" class=\"data row2 col9\" >0.079791</td>\n",
              "      <td id=\"T_ffc09_row2_col10\" class=\"data row2 col10\" >0.002421</td>\n",
              "      <td id=\"T_ffc09_row2_col11\" class=\"data row2 col11\" >-0.009346</td>\n",
              "      <td id=\"T_ffc09_row2_col12\" class=\"data row2 col12\" >0.062728</td>\n",
              "    </tr>\n",
              "    <tr>\n",
              "      <th id=\"T_ffc09_level0_row3\" class=\"row_heading level0 row3\" >diabetes</th>\n",
              "      <td id=\"T_ffc09_row3_col0\" class=\"data row3 col0\" >-0.101012</td>\n",
              "      <td id=\"T_ffc09_row3_col1\" class=\"data row3 col1\" >-0.012729</td>\n",
              "      <td id=\"T_ffc09_row3_col2\" class=\"data row3 col2\" >-0.009639</td>\n",
              "      <td id=\"T_ffc09_row3_col3\" class=\"data row3 col3\" >1.000000</td>\n",
              "      <td id=\"T_ffc09_row3_col4\" class=\"data row3 col4\" >-0.004850</td>\n",
              "      <td id=\"T_ffc09_row3_col5\" class=\"data row3 col5\" >-0.012732</td>\n",
              "      <td id=\"T_ffc09_row3_col6\" class=\"data row3 col6\" >0.092193</td>\n",
              "      <td id=\"T_ffc09_row3_col7\" class=\"data row3 col7\" >-0.046975</td>\n",
              "      <td id=\"T_ffc09_row3_col8\" class=\"data row3 col8\" >-0.089551</td>\n",
              "      <td id=\"T_ffc09_row3_col9\" class=\"data row3 col9\" >-0.157730</td>\n",
              "      <td id=\"T_ffc09_row3_col10\" class=\"data row3 col10\" >-0.147173</td>\n",
              "      <td id=\"T_ffc09_row3_col11\" class=\"data row3 col11\" >0.033726</td>\n",
              "      <td id=\"T_ffc09_row3_col12\" class=\"data row3 col12\" >-0.001943</td>\n",
              "    </tr>\n",
              "    <tr>\n",
              "      <th id=\"T_ffc09_level0_row4\" class=\"row_heading level0 row4\" >ejection_fraction</th>\n",
              "      <td id=\"T_ffc09_row4_col0\" class=\"data row4 col0\" >0.060098</td>\n",
              "      <td id=\"T_ffc09_row4_col1\" class=\"data row4 col1\" >0.031557</td>\n",
              "      <td id=\"T_ffc09_row4_col2\" class=\"data row4 col2\" >-0.044080</td>\n",
              "      <td id=\"T_ffc09_row4_col3\" class=\"data row4 col3\" >-0.004850</td>\n",
              "      <td id=\"T_ffc09_row4_col4\" class=\"data row4 col4\" >1.000000</td>\n",
              "      <td id=\"T_ffc09_row4_col5\" class=\"data row4 col5\" >0.024445</td>\n",
              "      <td id=\"T_ffc09_row4_col6\" class=\"data row4 col6\" >0.072177</td>\n",
              "      <td id=\"T_ffc09_row4_col7\" class=\"data row4 col7\" >-0.011302</td>\n",
              "      <td id=\"T_ffc09_row4_col8\" class=\"data row4 col8\" >0.175902</td>\n",
              "      <td id=\"T_ffc09_row4_col9\" class=\"data row4 col9\" >-0.148386</td>\n",
              "      <td id=\"T_ffc09_row4_col10\" class=\"data row4 col10\" >-0.067315</td>\n",
              "      <td id=\"T_ffc09_row4_col11\" class=\"data row4 col11\" >0.041729</td>\n",
              "      <td id=\"T_ffc09_row4_col12\" class=\"data row4 col12\" >-0.268603</td>\n",
              "    </tr>\n",
              "    <tr>\n",
              "      <th id=\"T_ffc09_level0_row5\" class=\"row_heading level0 row5\" >high_blood_pressure</th>\n",
              "      <td id=\"T_ffc09_row5_col0\" class=\"data row5 col0\" >0.093289</td>\n",
              "      <td id=\"T_ffc09_row5_col1\" class=\"data row5 col1\" >0.038182</td>\n",
              "      <td id=\"T_ffc09_row5_col2\" class=\"data row5 col2\" >-0.070590</td>\n",
              "      <td id=\"T_ffc09_row5_col3\" class=\"data row5 col3\" >-0.012732</td>\n",
              "      <td id=\"T_ffc09_row5_col4\" class=\"data row5 col4\" >0.024445</td>\n",
              "      <td id=\"T_ffc09_row5_col5\" class=\"data row5 col5\" >1.000000</td>\n",
              "      <td id=\"T_ffc09_row5_col6\" class=\"data row5 col6\" >0.049963</td>\n",
              "      <td id=\"T_ffc09_row5_col7\" class=\"data row5 col7\" >-0.004935</td>\n",
              "      <td id=\"T_ffc09_row5_col8\" class=\"data row5 col8\" >0.037109</td>\n",
              "      <td id=\"T_ffc09_row5_col9\" class=\"data row5 col9\" >-0.104615</td>\n",
              "      <td id=\"T_ffc09_row5_col10\" class=\"data row5 col10\" >-0.055711</td>\n",
              "      <td id=\"T_ffc09_row5_col11\" class=\"data row5 col11\" >-0.196439</td>\n",
              "      <td id=\"T_ffc09_row5_col12\" class=\"data row5 col12\" >0.079351</td>\n",
              "    </tr>\n",
              "    <tr>\n",
              "      <th id=\"T_ffc09_level0_row6\" class=\"row_heading level0 row6\" >platelets</th>\n",
              "      <td id=\"T_ffc09_row6_col0\" class=\"data row6 col0\" >-0.052354</td>\n",
              "      <td id=\"T_ffc09_row6_col1\" class=\"data row6 col1\" >-0.043786</td>\n",
              "      <td id=\"T_ffc09_row6_col2\" class=\"data row6 col2\" >0.024463</td>\n",
              "      <td id=\"T_ffc09_row6_col3\" class=\"data row6 col3\" >0.092193</td>\n",
              "      <td id=\"T_ffc09_row6_col4\" class=\"data row6 col4\" >0.072177</td>\n",
              "      <td id=\"T_ffc09_row6_col5\" class=\"data row6 col5\" >0.049963</td>\n",
              "      <td id=\"T_ffc09_row6_col6\" class=\"data row6 col6\" >1.000000</td>\n",
              "      <td id=\"T_ffc09_row6_col7\" class=\"data row6 col7\" >-0.041198</td>\n",
              "      <td id=\"T_ffc09_row6_col8\" class=\"data row6 col8\" >0.062125</td>\n",
              "      <td id=\"T_ffc09_row6_col9\" class=\"data row6 col9\" >-0.125120</td>\n",
              "      <td id=\"T_ffc09_row6_col10\" class=\"data row6 col10\" >0.028234</td>\n",
              "      <td id=\"T_ffc09_row6_col11\" class=\"data row6 col11\" >0.010514</td>\n",
              "      <td id=\"T_ffc09_row6_col12\" class=\"data row6 col12\" >-0.049139</td>\n",
              "    </tr>\n",
              "    <tr>\n",
              "      <th id=\"T_ffc09_level0_row7\" class=\"row_heading level0 row7\" >serum_creatinine</th>\n",
              "      <td id=\"T_ffc09_row7_col0\" class=\"data row7 col0\" >0.159187</td>\n",
              "      <td id=\"T_ffc09_row7_col1\" class=\"data row7 col1\" >0.052174</td>\n",
              "      <td id=\"T_ffc09_row7_col2\" class=\"data row7 col2\" >-0.016408</td>\n",
              "      <td id=\"T_ffc09_row7_col3\" class=\"data row7 col3\" >-0.046975</td>\n",
              "      <td id=\"T_ffc09_row7_col4\" class=\"data row7 col4\" >-0.011302</td>\n",
              "      <td id=\"T_ffc09_row7_col5\" class=\"data row7 col5\" >-0.004935</td>\n",
              "      <td id=\"T_ffc09_row7_col6\" class=\"data row7 col6\" >-0.041198</td>\n",
              "      <td id=\"T_ffc09_row7_col7\" class=\"data row7 col7\" >1.000000</td>\n",
              "      <td id=\"T_ffc09_row7_col8\" class=\"data row7 col8\" >-0.189095</td>\n",
              "      <td id=\"T_ffc09_row7_col9\" class=\"data row7 col9\" >0.006970</td>\n",
              "      <td id=\"T_ffc09_row7_col10\" class=\"data row7 col10\" >-0.027414</td>\n",
              "      <td id=\"T_ffc09_row7_col11\" class=\"data row7 col11\" >-0.149315</td>\n",
              "      <td id=\"T_ffc09_row7_col12\" class=\"data row7 col12\" >0.294278</td>\n",
              "    </tr>\n",
              "    <tr>\n",
              "      <th id=\"T_ffc09_level0_row8\" class=\"row_heading level0 row8\" >serum_sodium</th>\n",
              "      <td id=\"T_ffc09_row8_col0\" class=\"data row8 col0\" >-0.045966</td>\n",
              "      <td id=\"T_ffc09_row8_col1\" class=\"data row8 col1\" >0.041882</td>\n",
              "      <td id=\"T_ffc09_row8_col2\" class=\"data row8 col2\" >0.059550</td>\n",
              "      <td id=\"T_ffc09_row8_col3\" class=\"data row8 col3\" >-0.089551</td>\n",
              "      <td id=\"T_ffc09_row8_col4\" class=\"data row8 col4\" >0.175902</td>\n",
              "      <td id=\"T_ffc09_row8_col5\" class=\"data row8 col5\" >0.037109</td>\n",
              "      <td id=\"T_ffc09_row8_col6\" class=\"data row8 col6\" >0.062125</td>\n",
              "      <td id=\"T_ffc09_row8_col7\" class=\"data row8 col7\" >-0.189095</td>\n",
              "      <td id=\"T_ffc09_row8_col8\" class=\"data row8 col8\" >1.000000</td>\n",
              "      <td id=\"T_ffc09_row8_col9\" class=\"data row8 col9\" >-0.027566</td>\n",
              "      <td id=\"T_ffc09_row8_col10\" class=\"data row8 col10\" >0.004813</td>\n",
              "      <td id=\"T_ffc09_row8_col11\" class=\"data row8 col11\" >0.087640</td>\n",
              "      <td id=\"T_ffc09_row8_col12\" class=\"data row8 col12\" >-0.195204</td>\n",
              "    </tr>\n",
              "    <tr>\n",
              "      <th id=\"T_ffc09_level0_row9\" class=\"row_heading level0 row9\" >sex</th>\n",
              "      <td id=\"T_ffc09_row9_col0\" class=\"data row9 col0\" >0.065430</td>\n",
              "      <td id=\"T_ffc09_row9_col1\" class=\"data row9 col1\" >-0.094769</td>\n",
              "      <td id=\"T_ffc09_row9_col2\" class=\"data row9 col2\" >0.079791</td>\n",
              "      <td id=\"T_ffc09_row9_col3\" class=\"data row9 col3\" >-0.157730</td>\n",
              "      <td id=\"T_ffc09_row9_col4\" class=\"data row9 col4\" >-0.148386</td>\n",
              "      <td id=\"T_ffc09_row9_col5\" class=\"data row9 col5\" >-0.104615</td>\n",
              "      <td id=\"T_ffc09_row9_col6\" class=\"data row9 col6\" >-0.125120</td>\n",
              "      <td id=\"T_ffc09_row9_col7\" class=\"data row9 col7\" >0.006970</td>\n",
              "      <td id=\"T_ffc09_row9_col8\" class=\"data row9 col8\" >-0.027566</td>\n",
              "      <td id=\"T_ffc09_row9_col9\" class=\"data row9 col9\" >1.000000</td>\n",
              "      <td id=\"T_ffc09_row9_col10\" class=\"data row9 col10\" >0.445892</td>\n",
              "      <td id=\"T_ffc09_row9_col11\" class=\"data row9 col11\" >-0.015608</td>\n",
              "      <td id=\"T_ffc09_row9_col12\" class=\"data row9 col12\" >-0.004316</td>\n",
              "    </tr>\n",
              "    <tr>\n",
              "      <th id=\"T_ffc09_level0_row10\" class=\"row_heading level0 row10\" >smoking</th>\n",
              "      <td id=\"T_ffc09_row10_col0\" class=\"data row10 col0\" >0.018668</td>\n",
              "      <td id=\"T_ffc09_row10_col1\" class=\"data row10 col1\" >-0.107290</td>\n",
              "      <td id=\"T_ffc09_row10_col2\" class=\"data row10 col2\" >0.002421</td>\n",
              "      <td id=\"T_ffc09_row10_col3\" class=\"data row10 col3\" >-0.147173</td>\n",
              "      <td id=\"T_ffc09_row10_col4\" class=\"data row10 col4\" >-0.067315</td>\n",
              "      <td id=\"T_ffc09_row10_col5\" class=\"data row10 col5\" >-0.055711</td>\n",
              "      <td id=\"T_ffc09_row10_col6\" class=\"data row10 col6\" >0.028234</td>\n",
              "      <td id=\"T_ffc09_row10_col7\" class=\"data row10 col7\" >-0.027414</td>\n",
              "      <td id=\"T_ffc09_row10_col8\" class=\"data row10 col8\" >0.004813</td>\n",
              "      <td id=\"T_ffc09_row10_col9\" class=\"data row10 col9\" >0.445892</td>\n",
              "      <td id=\"T_ffc09_row10_col10\" class=\"data row10 col10\" >1.000000</td>\n",
              "      <td id=\"T_ffc09_row10_col11\" class=\"data row10 col11\" >-0.022839</td>\n",
              "      <td id=\"T_ffc09_row10_col12\" class=\"data row10 col12\" >-0.012623</td>\n",
              "    </tr>\n",
              "    <tr>\n",
              "      <th id=\"T_ffc09_level0_row11\" class=\"row_heading level0 row11\" >time</th>\n",
              "      <td id=\"T_ffc09_row11_col0\" class=\"data row11 col0\" >-0.224068</td>\n",
              "      <td id=\"T_ffc09_row11_col1\" class=\"data row11 col1\" >-0.141414</td>\n",
              "      <td id=\"T_ffc09_row11_col2\" class=\"data row11 col2\" >-0.009346</td>\n",
              "      <td id=\"T_ffc09_row11_col3\" class=\"data row11 col3\" >0.033726</td>\n",
              "      <td id=\"T_ffc09_row11_col4\" class=\"data row11 col4\" >0.041729</td>\n",
              "      <td id=\"T_ffc09_row11_col5\" class=\"data row11 col5\" >-0.196439</td>\n",
              "      <td id=\"T_ffc09_row11_col6\" class=\"data row11 col6\" >0.010514</td>\n",
              "      <td id=\"T_ffc09_row11_col7\" class=\"data row11 col7\" >-0.149315</td>\n",
              "      <td id=\"T_ffc09_row11_col8\" class=\"data row11 col8\" >0.087640</td>\n",
              "      <td id=\"T_ffc09_row11_col9\" class=\"data row11 col9\" >-0.015608</td>\n",
              "      <td id=\"T_ffc09_row11_col10\" class=\"data row11 col10\" >-0.022839</td>\n",
              "      <td id=\"T_ffc09_row11_col11\" class=\"data row11 col11\" >1.000000</td>\n",
              "      <td id=\"T_ffc09_row11_col12\" class=\"data row11 col12\" >-0.526964</td>\n",
              "    </tr>\n",
              "    <tr>\n",
              "      <th id=\"T_ffc09_level0_row12\" class=\"row_heading level0 row12\" >DEATH_EVENT</th>\n",
              "      <td id=\"T_ffc09_row12_col0\" class=\"data row12 col0\" >0.253729</td>\n",
              "      <td id=\"T_ffc09_row12_col1\" class=\"data row12 col1\" >0.066270</td>\n",
              "      <td id=\"T_ffc09_row12_col2\" class=\"data row12 col2\" >0.062728</td>\n",
              "      <td id=\"T_ffc09_row12_col3\" class=\"data row12 col3\" >-0.001943</td>\n",
              "      <td id=\"T_ffc09_row12_col4\" class=\"data row12 col4\" >-0.268603</td>\n",
              "      <td id=\"T_ffc09_row12_col5\" class=\"data row12 col5\" >0.079351</td>\n",
              "      <td id=\"T_ffc09_row12_col6\" class=\"data row12 col6\" >-0.049139</td>\n",
              "      <td id=\"T_ffc09_row12_col7\" class=\"data row12 col7\" >0.294278</td>\n",
              "      <td id=\"T_ffc09_row12_col8\" class=\"data row12 col8\" >-0.195204</td>\n",
              "      <td id=\"T_ffc09_row12_col9\" class=\"data row12 col9\" >-0.004316</td>\n",
              "      <td id=\"T_ffc09_row12_col10\" class=\"data row12 col10\" >-0.012623</td>\n",
              "      <td id=\"T_ffc09_row12_col11\" class=\"data row12 col11\" >-0.526964</td>\n",
              "      <td id=\"T_ffc09_row12_col12\" class=\"data row12 col12\" >1.000000</td>\n",
              "    </tr>\n",
              "  </tbody>\n",
              "</table>\n"
            ]
          },
          "metadata": {},
          "execution_count": 66
        }
      ]
    },
    {
      "cell_type": "markdown",
      "source": [
        "**Assigning the dependent and independent variables**"
      ],
      "metadata": {
        "id": "OI1ffmW8U6jk"
      }
    },
    {
      "cell_type": "code",
      "source": [
        "x= df.iloc[:, [0,1,2,4,5,6,7,8,11]].values  \n",
        "y= df.iloc[:, 12].values  \n",
        "#print(x)"
      ],
      "metadata": {
        "id": "eXy4sc4M8nGc"
      },
      "execution_count": 67,
      "outputs": []
    },
    {
      "cell_type": "markdown",
      "source": [
        "\n",
        "**Splitting the dataset into training and test set**"
      ],
      "metadata": {
        "id": "U4CiHC8HVCBG"
      }
    },
    {
      "cell_type": "code",
      "source": [
        "from sklearn.model_selection import train_test_split  \n",
        "x_train, x_test, y_train, y_test= train_test_split(x, y, test_size= 0.25, random_state=0) "
      ],
      "metadata": {
        "id": "MqKGAzAzLHBV"
      },
      "execution_count": 68,
      "outputs": []
    },
    {
      "cell_type": "markdown",
      "source": [
        "**feature Scaling**"
      ],
      "metadata": {
        "id": "wUvvpg8XVJTz"
      }
    },
    {
      "cell_type": "code",
      "source": [
        "from sklearn.preprocessing import StandardScaler    \n",
        "st_x= StandardScaler()    \n",
        "x_train= st_x.fit_transform(x_train)    \n",
        "x_test= st_x.transform(x_test)  "
      ],
      "metadata": {
        "id": "ujANlY7XLNfd"
      },
      "execution_count": 69,
      "outputs": []
    },
    {
      "cell_type": "markdown",
      "source": [
        "**Fitting Logistic Regression to the training set**"
      ],
      "metadata": {
        "id": "44dBY7WnVYHL"
      }
    },
    {
      "cell_type": "code",
      "source": [
        "from sklearn.linear_model import LogisticRegression  \n",
        "classifier= LogisticRegression(random_state=0)  \n",
        "classifier.fit(x_train, y_train)  "
      ],
      "metadata": {
        "colab": {
          "base_uri": "https://localhost:8080/"
        },
        "id": "vdup8XhhLQHY",
        "outputId": "579c9095-78b9-4e7c-bcf2-b5ac0866349c"
      },
      "execution_count": 70,
      "outputs": [
        {
          "output_type": "execute_result",
          "data": {
            "text/plain": [
              "LogisticRegression(random_state=0)"
            ]
          },
          "metadata": {},
          "execution_count": 70
        }
      ]
    },
    {
      "cell_type": "code",
      "source": [
        "LogisticRegression(C=1.0, class_weight=None, dual=False, fit_intercept=True,  \n",
        "                   intercept_scaling=1, l1_ratio=None, max_iter=100,  \n",
        "                   multi_class='warn', n_jobs=None, penalty='l2',  \n",
        "                   random_state=0, solver='warn', tol=0.0001, verbose=0,  \n",
        "                   warm_start=False)  "
      ],
      "metadata": {
        "colab": {
          "base_uri": "https://localhost:8080/"
        },
        "id": "Vd_9jNEZLVYF",
        "outputId": "57fd433b-e2de-476f-909c-92d7a47f3715"
      },
      "execution_count": 71,
      "outputs": [
        {
          "output_type": "execute_result",
          "data": {
            "text/plain": [
              "LogisticRegression(multi_class='warn', random_state=0, solver='warn')"
            ]
          },
          "metadata": {},
          "execution_count": 71
        }
      ]
    },
    {
      "cell_type": "markdown",
      "source": [
        "**Predicting the test set result** "
      ],
      "metadata": {
        "id": "Xg2S4BKvVc9q"
      }
    },
    {
      "cell_type": "code",
      "source": [
        " y_pred= classifier.predict(x_test)  "
      ],
      "metadata": {
        "id": "80XMjIV1LXmN"
      },
      "execution_count": 72,
      "outputs": []
    },
    {
      "cell_type": "markdown",
      "source": [
        "**Creating the Confusion matrix**"
      ],
      "metadata": {
        "id": "aw9cwBoHVfwR"
      }
    },
    {
      "cell_type": "code",
      "source": [
        "from sklearn.metrics import confusion_matrix  \n",
        "cm= confusion_matrix(y_test, y_pred) \n",
        "print(cm)"
      ],
      "metadata": {
        "colab": {
          "base_uri": "https://localhost:8080/"
        },
        "id": "4rszS6-9Laie",
        "outputId": "7552176b-af4a-452a-aadd-81e9d3a71bde"
      },
      "execution_count": 73,
      "outputs": [
        {
          "output_type": "stream",
          "name": "stdout",
          "text": [
            "[[45  3]\n",
            " [12 15]]\n"
          ]
        }
      ]
    },
    {
      "cell_type": "markdown",
      "source": [
        "**Precision and F1 score**"
      ],
      "metadata": {
        "id": "ECUywRiDVlsq"
      }
    },
    {
      "cell_type": "code",
      "source": [
        "y_score = classifier.score(x_test, y_pred)\n",
        "print('Precision: ', y_score)"
      ],
      "metadata": {
        "colab": {
          "base_uri": "https://localhost:8080/"
        },
        "id": "zVHXgbKIMfY3",
        "outputId": "cd1d73a0-9c90-4bb4-e3af-6742a203f871"
      },
      "execution_count": 74,
      "outputs": [
        {
          "output_type": "stream",
          "name": "stdout",
          "text": [
            "Precision:  1.0\n"
          ]
        }
      ]
    },
    {
      "cell_type": "code",
      "source": [
        "from sklearn.metrics import f1_score\n",
        "f1_score(y_test, y_pred, average=None)"
      ],
      "metadata": {
        "colab": {
          "base_uri": "https://localhost:8080/"
        },
        "id": "4655PaANOinM",
        "outputId": "8e620ef0-d93f-403b-cb47-0727777ef561"
      },
      "execution_count": 75,
      "outputs": [
        {
          "output_type": "execute_result",
          "data": {
            "text/plain": [
              "array([0.85714286, 0.66666667])"
            ]
          },
          "metadata": {},
          "execution_count": 75
        }
      ]
    },
    {
      "cell_type": "markdown",
      "source": [
        "**Linear regression**"
      ],
      "metadata": {
        "id": "vHyYvreLVuSa"
      }
    },
    {
      "cell_type": "code",
      "source": [
        "from sklearn import linear_model\n",
        "\n",
        "\n",
        "x= df.iloc[:, [0,1,2,4,5,6,7,8,11]].values  \n",
        "y= df.iloc[:, 12].values \n",
        "\n",
        "\n",
        "regr = linear_model.LinearRegression()\n",
        "regr.fit(x, y)\n",
        "model = regr.fit(x, y)\n",
        "\n",
        "predictedCO2 = regr.predict(x_test)\n",
        "\n",
        "r2_score = regr.score(x,y)\n",
        "\n",
        "Model_score = model.score(x, y)\n",
        "\n",
        "print(\"r2_score    :  \", r2_score*100,'%')\n",
        "print(\"\\n intercept   :  \",model.intercept_)\n",
        "print(\"\\n coefficients:  \",regr.coef_)\n",
        "print(\"\\n Model_score :  \",Model_score)"
      ],
      "metadata": {
        "colab": {
          "base_uri": "https://localhost:8080/"
        },
        "id": "iHPPvAulRSPQ",
        "outputId": "8f4a3607-42e1-4fa1-fe4a-122449962b80"
      },
      "execution_count": 76,
      "outputs": [
        {
          "output_type": "stream",
          "name": "stdout",
          "text": [
            "r2_score    :   41.171492624470964 %\n",
            "\n",
            " intercept   :   1.6619586192312168\n",
            "\n",
            " coefficients:   [ 5.46284657e-03  3.58997734e-03  3.24122177e-05 -9.45083849e-03\n",
            " -7.53336823e-03 -4.08087913e-08  8.51718550e-02 -7.93934083e-03\n",
            " -2.72000973e-03]\n",
            "\n",
            " Model_score :   0.4117149262447096\n"
          ]
        }
      ]
    }
  ]
}